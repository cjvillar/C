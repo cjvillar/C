{
 "cells": [
  {
   "cell_type": "markdown",
   "metadata": {},
   "source": [
    "# C Notebook"
   ]
  },
  {
   "cell_type": "markdown",
   "metadata": {},
   "source": [
    "## 1. Hello World"
   ]
  },
  {
   "cell_type": "code",
   "execution_count": 2,
   "metadata": {},
   "outputs": [
    {
     "name": "stdout",
     "output_type": "stream",
     "text": [
      "Hello, World!"
     ]
    }
   ],
   "source": [
    "#include <stdio.h> //include standard library\n",
    "\n",
    "int main() { // main function\n",
    "   printf(\"Hello, World!\");\n",
    "}"
   ]
  },
  {
   "cell_type": "code",
   "execution_count": 3,
   "metadata": {},
   "outputs": [
    {
     "name": "stdout",
     "output_type": "stream",
     "text": [
      "1\n",
      "2\n",
      "3\n",
      "4\n",
      "5\n"
     ]
    }
   ],
   "source": [
    "//create an array and loop through using stdlib\n",
    "#include <stdio.h> \n",
    "#include <stdlib.h>\n",
    "\n",
    "int arr[] = {1,2,3,4,5};\n",
    "int arr_size = (sizeof(arr))/sizeof(arr[0]);\n",
    "\n",
    "int main()\n",
    "{\n",
    "   \n",
    "   for (int i = 0; i < arr_size; i++){\n",
    "    printf(\"%d\\n\",arr[i]);\n",
    "   }\n",
    "    return 0;\n",
    "}"
   ]
  },
  {
   "cell_type": "code",
   "execution_count": 4,
   "metadata": {},
   "outputs": [
    {
     "name": "stdout",
     "output_type": "stream",
     "text": [
      "5,2"
     ]
    }
   ],
   "source": [
    "//two sum\n",
    "//need an arr, a target variable, and a differance variable\n",
    "#include <stdio.h> \n",
    "#include <stdlib.h>\n",
    "\n",
    "int arr[] = {3,2,5,6};\n",
    "int target = 7;\n",
    "int arr_size = (sizeof(arr))/sizeof(arr[0]);\n",
    "int diff;\n",
    "\n",
    "int main()\n",
    "{\n",
    "    for(int i = 0;i < arr_size; i++)\n",
    "    {\n",
    "        for(int j = 0;j < arr_size; j++ ){\n",
    "        diff = target - arr[i];\n",
    "            if (diff == arr[j]){\n",
    "                printf(\"%i,%i\",diff,arr[i]);\n",
    "                return 0;\n",
    "            }  \n",
    "        } \n",
    "    }\n",
    "    \n",
    "    \n",
    "}"
   ]
  },
  {
   "cell_type": "code",
   "execution_count": null,
   "metadata": {},
   "outputs": [],
   "source": []
  }
 ],
 "metadata": {
  "kernelspec": {
   "display_name": "C",
   "language": "c",
   "name": "c"
  },
  "language_info": {
   "file_extension": ".c",
   "mimetype": "text/plain",
   "name": "c"
  }
 },
 "nbformat": 4,
 "nbformat_minor": 2
}
