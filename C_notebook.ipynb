{
 "cells": [
  {
   "cell_type": "markdown",
   "metadata": {},
   "source": [
    "# C Notebook"
   ]
  },
  {
   "cell_type": "markdown",
   "metadata": {},
   "source": [
    "### Hello World:"
   ]
  },
  {
   "cell_type": "code",
   "execution_count": 1,
   "metadata": {},
   "outputs": [
    {
     "name": "stdout",
     "output_type": "stream",
     "text": [
      "Hello, World!"
     ]
    }
   ],
   "source": [
    "#include <stdio.h> //include standard library\n",
    "\n",
    "int main() { // main function\n",
    "   printf(\"Hello, World!\");\n",
    "}"
   ]
  },
  {
   "cell_type": "markdown",
   "metadata": {},
   "source": [
    "### Loop through an array:"
   ]
  },
  {
   "cell_type": "code",
   "execution_count": 2,
   "metadata": {},
   "outputs": [
    {
     "name": "stdout",
     "output_type": "stream",
     "text": [
      "1\n",
      "2\n",
      "3\n",
      "4\n",
      "5\n"
     ]
    }
   ],
   "source": [
    "//create an array and loop through using stdlib\n",
    "#include <stdio.h> \n",
    "#include <stdlib.h>\n",
    "\n",
    "int arr[] = {1,2,3,4,5};\n",
    "int arr_size = (sizeof(arr))/sizeof(arr[0]);\n",
    "\n",
    "int main()\n",
    "{\n",
    "   for (int i = 0; i < arr_size; i++){\n",
    "    printf(\"%d\\n\",arr[i]);\n",
    "   }\n",
    "    return 0;\n",
    "}"
   ]
  },
  {
   "cell_type": "markdown",
   "metadata": {},
   "source": [
    "### Two Sum:"
   ]
  },
  {
   "cell_type": "code",
<<<<<<< Updated upstream
   "execution_count": 1,
=======
   "execution_count": 3,
>>>>>>> Stashed changes
   "metadata": {},
   "outputs": [
    {
     "name": "stdout",
     "output_type": "stream",
     "text": [
      "1,2"
     ]
    }
   ],
   "source": [
    "//two sum: Find index of two integers in the arr that add up to the target integer.\n",
    "//tip: need an arr, a target variable, and a differance variable\n",
    "#include <stdio.h> \n",
    "#include <stdlib.h>\n",
    "\n",
    "int arr[] = {3,2, 5,6};\n",
    "int target = 7;\n",
    "int arr_size = (sizeof(arr))/sizeof(arr[0]);\n",
    "int diff;\n",
    "\n",
    "int main()\n",
    "{\n",
    "    for(int i = 0;i < arr_size; i++)\n",
    "    {\n",
    "        for(int j = 0;j < arr_size; j++ )\n",
    "        {\n",
    "            diff = target - arr[i];\n",
    "            if (diff == arr[j])\n",
    "            {\n",
    "                printf(\"%i,%i\",i,j);\n",
    "                return 0;\n",
    "            } \n",
    "        }\n",
    "    }   \n",
    "}"
   ]
  },
  {
<<<<<<< Updated upstream
   "cell_type": "markdown",
   "metadata": {},
   "source": [
    "### Functions"
   ]
  },
  {
   "cell_type": "code",
   "execution_count": 19,
   "metadata": {},
=======
   "cell_type": "code",
   "execution_count": 7,
   "metadata": {},
>>>>>>> Stashed changes
   "outputs": [
    {
     "name": "stdout",
     "output_type": "stream",
     "text": [
<<<<<<< Updated upstream
      "0 1 2 3 4 5 6 7 8 9 "
=======
      "55\n"
>>>>>>> Stashed changes
     ]
    }
   ],
   "source": [
<<<<<<< Updated upstream
    "//function to find the index of an int in an array\n",
    "//functions start with a return type and name\n",
    "#include <stdio.h> \n",
    "#include <stdlib.h>\n",
    "\n",
    "//function\n",
    "int getIndex(int arr[], int arr_size)\n",
    "{\n",
    "    int i;\n",
    "    for(i = 0; i < arr_size; i++)\n",
    "    {\n",
    "        printf(\"%i \", i);\n",
    "    }\n",
    "    return 0 ;\n",
    "}\n",
    "\n",
    "int main()\n",
    "{\n",
    "  int arr[] = {1,2,3,4,5,6,7,8,9,10};\n",
    "  int arr_size = (sizeof(arr))/sizeof(arr[0]);\n",
    "\n",
    "  getIndex(arr, arr_size);\n",
    "\n",
    "  return 0;\n",
    "\n",
    "}"
   ]
  },
  {
   "cell_type": "markdown",
   "metadata": {},
   "source": [
    "## Binary Search"
   ]
  },
  {
   "cell_type": "code",
   "execution_count": 37,
   "metadata": {},
   "outputs": [
    {
     "name": "stderr",
     "output_type": "stream",
     "text": [
      "/var/folders/tl/xbs3c18x5fn8n915zndm76hw0000gn/T/tmpo2vscwu0.c:32:1: warning: non-void function does not return a value in all control paths [-Wreturn-type]\n",
      "}\n",
      "^\n",
      "1 warning generated.\n"
     ]
    },
    {
     "name": "stdout",
     "output_type": "stream",
     "text": [
      "4 : Found at index 3\n"
     ]
    }
   ],
   "source": [
    "#include <stdio.h> \n",
    "#include <stdlib.h>\n",
    "\n",
    "// use recursion to implement a binary search algorithm.\n",
    "int binarySearch(int arr[], int start, int end, int target)\n",
    "{\n",
    "    if (start > end)\n",
    "    {\n",
    "        printf(\"%d : Not Found\\n\", target);\n",
    "        return -1;\n",
    "    }\n",
    "\n",
    "    int mid = (start + end) / 2;\n",
    "\n",
    "    if (arr[mid] == target)\n",
    "    {\n",
    "        printf(\"%d : Found at index %d\\n\", target, mid);\n",
    "        return mid;\n",
    "    }\n",
    "\n",
    "    if (arr[mid] > target)\n",
    "    {\n",
    "        return binarySearch(arr, start, mid - 1, target);\n",
    "    }\n",
    "\n",
    "    if (arr[mid] < target)\n",
    "    {\n",
    "        return binarySearch(arr, mid + 1, end, target);\n",
    "    }\n",
    "    \n",
    "    return -1;\n",
    "}\n",
    "\n",
    "int main()\n",
    "{\n",
    "    int arr[] = {1, 2, 3, 4, 5, 6, 7, 8, 9, 10};\n",
    "    int arr_size = sizeof(arr) / sizeof(arr[0]);\n",
    "    int target = 4;\n",
    "    binarySearch(arr, 0, arr_size - 1, target);\n",
    "    return 0;\n",
    "}\n",
    "\n"
=======
    "#include <stdio.h>\n",
    "#include <stdint.h>\n",
    "#include <inttypes.h>\n",
    "\n",
    "int64_t fib(int64_t n) {\n",
    "    if (n < 2) return n;\n",
    "    return (fib(n - 1) + fib(n - 2));\n",
    "}\n",
    "\n",
    "int main() {\n",
    "    int64_t n = 10;\n",
    "    int64_t num = fib(n);\n",
    "    printf(\"%\" PRId64 \"\\n\", num);\n",
    "    return 0;\n",
    "}\n"
>>>>>>> Stashed changes
   ]
  }
 ],
 "metadata": {
  "kernelspec": {
   "display_name": "C",
   "language": "c",
   "name": "c"
  },
  "language_info": {
   "file_extension": ".c",
   "mimetype": "text/plain",
   "name": "c"
  }
 },
 "nbformat": 4,
 "nbformat_minor": 2
}
